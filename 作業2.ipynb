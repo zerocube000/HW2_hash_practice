{
  "nbformat": 4,
  "nbformat_minor": 0,
  "metadata": {
    "colab": {
      "provenance": [],
      "authorship_tag": "ABX9TyMFD+kpPQca51129Kn6EWSd"
    },
    "kernelspec": {
      "name": "python3",
      "display_name": "Python 3"
    },
    "language_info": {
      "name": "python"
    }
  },
  "cells": [
    {
      "cell_type": "code",
      "execution_count": null,
      "metadata": {
        "id": "cg02vC3RAlKm",
        "colab": {
          "base_uri": "https://localhost:8080/"
        },
        "outputId": "4805c90f-4078-4fb4-976a-a1a027f24cb5"
      },
      "outputs": [
        {
          "output_type": "stream",
          "name": "stdout",
          "text": [
            "{'Cheese': 234, 'Pizza': 83, 'Coke': 145, 'Steak': 46, 'Burger': 196, 'Fries': 76, 'Rib': 33, 'Taco': 57, 'Pho': 19, 'Potato': 3}\n"
          ]
        }
      ],
      "source": [
        "word_freq = {}\n",
        "\n",
        "with open(\"/content/date/hw2_data.txt\", \"r\") as data:\n",
        "  words = data.read().split()\n",
        "\n",
        "for word in words :\n",
        "    if word in word_freq:\n",
        "        word_freq[word] += 1\n",
        "    else:\n",
        "        word_freq[word] = 1\n",
        "\n",
        "print(word_freq)"
      ]
    }
  ]
}