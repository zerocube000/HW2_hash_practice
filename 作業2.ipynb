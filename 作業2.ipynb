{
  "nbformat": 4,
  "nbformat_minor": 0,
  "metadata": {
    "colab": {
      "provenance": [],
      "authorship_tag": "ABX9TyOB8sAsgOPrEQ5iFIY0bCcG"
    },
    "kernelspec": {
      "name": "python3",
      "display_name": "Python 3"
    },
    "language_info": {
      "name": "python"
    }
  },
  "cells": [
    {
      "cell_type": "code",
      "execution_count": 45,
      "metadata": {
        "id": "cg02vC3RAlKm",
        "colab": {
          "base_uri": "https://localhost:8080/"
        },
        "outputId": "96bf5956-7a4d-4e9c-b223-f12705167d16"
      },
      "outputs": [
        {
          "output_type": "stream",
          "name": "stdout",
          "text": [
            "1.沒有單字重複\n",
            "2.每個單字重複的次數：\n",
            "  Cheese 重複 234 次\n",
            "  Pizza 重複 83 次\n",
            "  Coke 重複 145 次\n",
            "  Steak 重複 46 次\n",
            "  Burger 重複 196 次\n",
            "  Fries 重複 76 次\n",
            "  Rib 重複 33 次\n",
            "  Taco 重複 57 次\n",
            "  Pho 重複 19 次\n",
            "  Potato 重複 3 次\n"
          ]
        }
      ],
      "source": [
        "from posixpath import join\n",
        "word_freq = {}\n",
        "word_repeat = []\n",
        "repeat = False\n",
        "\n",
        "with open(\"/content/drive/MyDrive/hw2_data.txt\", \"r\") as data:\n",
        "  words = data.read().split()\n",
        "\n",
        "for word in words :\n",
        "    if word in word_freq:\n",
        "        word_freq[word] += 1\n",
        "    else:\n",
        "        word_freq[word] = 1\n",
        "\n",
        "for word in words:\n",
        "  if word_freq[word] == 1:\n",
        "    word_repeat.append(word)\n",
        "    repeat = True\n",
        "\n",
        "if repeat == False:\n",
        "  print(\"1.沒有單字重複\")\n",
        "else:\n",
        "  print(\"1.沒有重複的單字是\",\",\".join(word_repeat))\n",
        "\n",
        "print(\"2.每個單字重複的次數：\")\n",
        "for word,freq in word_freq.items():\n",
        "  print(\" \", word, \"重複\", freq, \"次\")\n",
        "\n"
      ]
    }
  ]
}